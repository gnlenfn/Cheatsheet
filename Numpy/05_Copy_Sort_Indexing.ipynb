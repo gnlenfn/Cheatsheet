{
 "cells": [
  {
   "cell_type": "markdown",
   "metadata": {},
   "source": [
    "# 8. 배열 복사\n",
    "ndarray 객체에 대한 slice, subset, indexing은 새로운 배열 객체를 반환하는 것이 아니라 기존 객체의 뷰이다. 밴환한 배열의 값을 변경하면 원본 배열에 반영된다.  \n",
    "새로운 배열에 기존의 배열의 변화를 저장하려면 copy함수로 기존의 객체와 다른 객체를 만들어야 한다.  \n",
    "## [ndarray].copy(), np.copy(arr)"
   ]
  },
  {
   "cell_type": "code",
   "execution_count": 3,
   "metadata": {},
   "outputs": [],
   "source": [
    "import numpy as np\n",
    "\n",
    "def pprint(arr):\n",
    "    print(\"type:{}\".format(type(arr)))\n",
    "    print(\"shape: {}, dimension: {}, dtype:{}\".format(arr.shape, arr.ndim, arr.dtype))\n",
    "    print(\"Array's Data:\\n\", arr)\n",
    "\n",
    "# Numpy 객체정보를 출력하는 용도"
   ]
  },
  {
   "cell_type": "code",
   "execution_count": 4,
   "metadata": {},
   "outputs": [
    {
     "name": "stdout",
     "output_type": "stream",
     "text": [
      "type:<class 'numpy.ndarray'>\n",
      "shape: (3, 3), dimension: 2, dtype:int64\n",
      "Array's Data:\n",
      " [[2 6 5]\n",
      " [5 0 7]\n",
      " [5 5 6]]\n"
     ]
    }
   ],
   "source": [
    "a = np.random.randint(0,9, (3,3))\n",
    "pprint(a)"
   ]
  },
  {
   "cell_type": "code",
   "execution_count": 5,
   "metadata": {},
   "outputs": [],
   "source": [
    "copied_a1 = np.copy(a) #"
   ]
  },
  {
   "cell_type": "code",
   "execution_count": 6,
   "metadata": {},
   "outputs": [
    {
     "name": "stdout",
     "output_type": "stream",
     "text": [
      "type:<class 'numpy.ndarray'>\n",
      "shape: (3, 3), dimension: 2, dtype:int64\n",
      "Array's Data:\n",
      " [[0 6 5]\n",
      " [0 0 7]\n",
      " [0 5 6]]\n"
     ]
    }
   ],
   "source": [
    "# 전체 row의 첫 번째 요소 0으로 바꿈\n",
    "copied_a1[:,0]=0\n",
    "pprint(copied_a1)"
   ]
  },
  {
   "cell_type": "code",
   "execution_count": 7,
   "metadata": {},
   "outputs": [
    {
     "name": "stdout",
     "output_type": "stream",
     "text": [
      "type:<class 'numpy.ndarray'>\n",
      "shape: (3, 3), dimension: 2, dtype:int64\n",
      "Array's Data:\n",
      " [[2 6 5]\n",
      " [5 0 7]\n",
      " [5 5 6]]\n"
     ]
    }
   ],
   "source": [
    "pprint(a) # 복사본 변경이 원본에 영향 주지 않음"
   ]
  },
  {
   "cell_type": "markdown",
   "metadata": {},
   "source": [
    "# 9. 배열 정렬\n",
    "axis를 기준으로 요소를 정렬하는 sort"
   ]
  },
  {
   "cell_type": "code",
   "execution_count": 8,
   "metadata": {},
   "outputs": [
    {
     "name": "stdout",
     "output_type": "stream",
     "text": [
      "type:<class 'numpy.ndarray'>\n",
      "shape: (3, 3), dimension: 2, dtype:float64\n",
      "Array's Data:\n",
      " [[0.98903776 0.35198078 0.88115804]\n",
      " [0.80932609 0.73441259 0.71573055]\n",
      " [0.70632638 0.33397799 0.74395499]]\n"
     ]
    }
   ],
   "source": [
    "unsorted_arr = np.random.random((3,3))\n",
    "pprint(unsorted_arr)"
   ]
  },
  {
   "cell_type": "code",
   "execution_count": 9,
   "metadata": {},
   "outputs": [],
   "source": [
    "unsorted_arr1 = unsorted_arr.copy()\n",
    "unsorted_arr2 = unsorted_arr.copy()\n",
    "unsorted_arr3 = unsorted_arr.copy()"
   ]
  },
  {
   "cell_type": "markdown",
   "metadata": {},
   "source": [
    "* arr.sort() axis의 기본값은 -1\n",
    "* axis=-1은 현재 배열의 마지막 axis를 의미\n",
    "* 현재 unsorted_arr의 마지막 axis는 1"
   ]
  },
  {
   "cell_type": "code",
   "execution_count": 10,
   "metadata": {},
   "outputs": [
    {
     "name": "stdout",
     "output_type": "stream",
     "text": [
      "type:<class 'numpy.ndarray'>\n",
      "shape: (3, 3), dimension: 2, dtype:float64\n",
      "Array's Data:\n",
      " [[0.35198078 0.88115804 0.98903776]\n",
      " [0.71573055 0.73441259 0.80932609]\n",
      " [0.33397799 0.70632638 0.74395499]]\n"
     ]
    }
   ],
   "source": [
    "# sort array\n",
    "unsorted_arr1.sort()\n",
    "pprint(unsorted_arr1)"
   ]
  },
  {
   "cell_type": "code",
   "execution_count": 11,
   "metadata": {},
   "outputs": [
    {
     "name": "stdout",
     "output_type": "stream",
     "text": [
      "type:<class 'numpy.ndarray'>\n",
      "shape: (3, 3), dimension: 2, dtype:float64\n",
      "Array's Data:\n",
      " [[0.70632638 0.33397799 0.71573055]\n",
      " [0.80932609 0.35198078 0.74395499]\n",
      " [0.98903776 0.73441259 0.88115804]]\n"
     ]
    }
   ],
   "source": [
    "# sort array, axis=0\n",
    "unsorted_arr2.sort(axis=0)\n",
    "pprint(unsorted_arr2)"
   ]
  },
  {
   "cell_type": "code",
   "execution_count": 12,
   "metadata": {},
   "outputs": [
    {
     "name": "stdout",
     "output_type": "stream",
     "text": [
      "type:<class 'numpy.ndarray'>\n",
      "shape: (3, 3), dimension: 2, dtype:float64\n",
      "Array's Data:\n",
      " [[0.35198078 0.88115804 0.98903776]\n",
      " [0.71573055 0.73441259 0.80932609]\n",
      " [0.33397799 0.70632638 0.74395499]]\n"
     ]
    }
   ],
   "source": [
    "# sort array, axis=1\n",
    "unsorted_arr3.sort(axis=1)\n",
    "pprint(unsorted_arr3)"
   ]
  },
  {
   "cell_type": "markdown",
   "metadata": {},
   "source": [
    "![axis=0](https://taewanmerepo.github.io/2018/01/numpy/sortaxis1.jpg)![axis=1](https://taewanmerepo.github.io/2018/01/numpy/sortaxis2.jpg)  \n",
    "___\n",
    "# 10. Subset, Slice, Indexing\n",
    "## 10.1 요소 선택\n",
    "파이썬 인덱스와 같이 참조 가능  "
   ]
  },
  {
   "cell_type": "code",
   "execution_count": 13,
   "metadata": {},
   "outputs": [
    {
     "name": "stdout",
     "output_type": "stream",
     "text": [
      "type:<class 'numpy.ndarray'>\n",
      "shape: (24,), dimension: 1, dtype:int64\n",
      "Array's Data:\n",
      " [ 0  1  2  3  4  5  6  7  8  9 10 11 12 13 14 15 16 17 18 19 20 21 22 23]\n",
      "type:<class 'numpy.ndarray'>\n",
      "shape: (4, 6), dimension: 2, dtype:int64\n",
      "Array's Data:\n",
      " [[ 0  1  2  3  4  5]\n",
      " [ 6  7  8  9 10 11]\n",
      " [12 13 14 15 16 17]\n",
      " [18 19 20 21 22 23]]\n",
      "type:<class 'numpy.ndarray'>\n",
      "shape: (2, 4, 3), dimension: 3, dtype:int64\n",
      "Array's Data:\n",
      " [[[ 0  1  2]\n",
      "  [ 3  4  5]\n",
      "  [ 6  7  8]\n",
      "  [ 9 10 11]]\n",
      "\n",
      " [[12 13 14]\n",
      "  [15 16 17]\n",
      "  [18 19 20]\n",
      "  [21 22 23]]]\n"
     ]
    }
   ],
   "source": [
    "a0 = np.arange(24) # 1차원 배열\n",
    "pprint(a0)\n",
    "a1 = np.arange(24).reshape((4, 6)) #2차원 배열\n",
    "pprint(a1)\n",
    "a2 = np.arange(24).reshape((2, 4, 3)) # 3차원 배열\n",
    "pprint(a2)"
   ]
  },
  {
   "cell_type": "code",
   "execution_count": 14,
   "metadata": {},
   "outputs": [
    {
     "data": {
      "text/plain": [
       "5"
      ]
     },
     "execution_count": 14,
     "metadata": {},
     "output_type": "execute_result"
    }
   ],
   "source": [
    "# 1D array indexing\n",
    "a0[5]"
   ]
  },
  {
   "cell_type": "code",
   "execution_count": 15,
   "metadata": {},
   "outputs": [
    {
     "name": "stdout",
     "output_type": "stream",
     "text": [
      "type:<class 'numpy.ndarray'>\n",
      "shape: (24,), dimension: 1, dtype:int64\n",
      "Array's Data:\n",
      " [    0     1     2     3     4 10000     6     7     8     9    10    11\n",
      "    12    13    14    15    16    17    18    19    20    21    22    23]\n"
     ]
    }
   ],
   "source": [
    "a0[5] = 10000\n",
    "pprint(a0)"
   ]
  },
  {
   "cell_type": "code",
   "execution_count": 16,
   "metadata": {},
   "outputs": [
    {
     "data": {
      "text/plain": [
       "1"
      ]
     },
     "execution_count": 16,
     "metadata": {},
     "output_type": "execute_result"
    }
   ],
   "source": [
    "# 2D array indexing\n",
    "a1[0,1]"
   ]
  },
  {
   "cell_type": "code",
   "execution_count": 17,
   "metadata": {},
   "outputs": [
    {
     "name": "stdout",
     "output_type": "stream",
     "text": [
      "type:<class 'numpy.ndarray'>\n",
      "shape: (4, 6), dimension: 2, dtype:int64\n",
      "Array's Data:\n",
      " [[    0 10000     2     3     4     5]\n",
      " [    6     7     8     9    10    11]\n",
      " [   12    13    14    15    16    17]\n",
      " [   18    19    20    21    22    23]]\n"
     ]
    }
   ],
   "source": [
    "a1[0,1] = 10000\n",
    "pprint(a1)"
   ]
  },
  {
   "cell_type": "code",
   "execution_count": 18,
   "metadata": {},
   "outputs": [
    {
     "data": {
      "text/plain": [
       "13"
      ]
     },
     "execution_count": 18,
     "metadata": {},
     "output_type": "execute_result"
    }
   ],
   "source": [
    "# 3D array indexing\n",
    "a2[1,0,1]"
   ]
  },
  {
   "cell_type": "code",
   "execution_count": 19,
   "metadata": {},
   "outputs": [
    {
     "name": "stdout",
     "output_type": "stream",
     "text": [
      "type:<class 'numpy.ndarray'>\n",
      "shape: (2, 4, 3), dimension: 3, dtype:int64\n",
      "Array's Data:\n",
      " [[[    0     1     2]\n",
      "  [    3     4     5]\n",
      "  [    6     7     8]\n",
      "  [    9    10    11]]\n",
      "\n",
      " [[   12 10000    14]\n",
      "  [   15    16    17]\n",
      "  [   18    19    20]\n",
      "  [   21    22    23]]]\n"
     ]
    }
   ],
   "source": [
    "a2[1,0,1] = 10000\n",
    "pprint(a2)"
   ]
  },
  {
   "cell_type": "markdown",
   "metadata": {},
   "source": [
    "## 10.2 Slicing\n",
    "[a:b] 의 형태로 나타내며 axis 별로 범위를 지정한다.  \n",
    "a 이상 b 미만  \n",
    "a를 생략하면 0을 지정한 것으로 간주한다.  \n",
    "b를 생력하면 마지막 index를 지정한 것으로 간주한다.  \n",
    "':'은 전체 범위를 의미한다. "
   ]
  },
  {
   "cell_type": "code",
   "execution_count": 20,
   "metadata": {},
   "outputs": [
    {
     "name": "stdout",
     "output_type": "stream",
     "text": [
      "type:<class 'numpy.ndarray'>\n",
      "shape: (4, 6), dimension: 2, dtype:int64\n",
      "Array's Data:\n",
      " [[ 1  2  3  4  5  6]\n",
      " [ 7  8  9 10 11 12]\n",
      " [13 14 15 16 17 18]\n",
      " [19 20 21 22 23 24]]\n"
     ]
    }
   ],
   "source": [
    "a1 = np.arange(1, 25).reshape((4, 6)) #2차원 배열\n",
    "pprint(a1)"
   ]
  },
  {
   "cell_type": "code",
   "execution_count": 21,
   "metadata": {},
   "outputs": [
    {
     "data": {
      "text/plain": [
       "array([[ 8,  9, 10, 11],\n",
       "       [14, 15, 16, 17]])"
      ]
     },
     "execution_count": 21,
     "metadata": {},
     "output_type": "execute_result"
    }
   ],
   "source": [
    "a1[1:3, 1:5]"
   ]
  },
  {
   "cell_type": "markdown",
   "metadata": {},
   "source": [
    "**슬라이싱 업데이트**"
   ]
  },
  {
   "cell_type": "code",
   "execution_count": 22,
   "metadata": {},
   "outputs": [
    {
     "name": "stdout",
     "output_type": "stream",
     "text": [
      "type:<class 'numpy.ndarray'>\n",
      "shape: (4, 6), dimension: 2, dtype:int64\n",
      "Array's Data:\n",
      " [[ 1  2  3  4  5  6]\n",
      " [ 7  8  9 10 11 12]\n",
      " [13 14 15 16 17 18]\n",
      " [19 20 21 22 23 24]]\n"
     ]
    }
   ],
   "source": [
    "pprint(a1)"
   ]
  },
  {
   "cell_type": "code",
   "execution_count": 23,
   "metadata": {},
   "outputs": [
    {
     "name": "stdout",
     "output_type": "stream",
     "text": [
      "type:<class 'numpy.ndarray'>\n",
      "shape: (2, 4), dimension: 2, dtype:int64\n",
      "Array's Data:\n",
      " [[ 8  9 10 11]\n",
      " [14 15 16 17]]\n"
     ]
    }
   ],
   "source": [
    "slide_arr = a1[1:3, 1:5]\n",
    "pprint(slide_arr)"
   ]
  },
  {
   "cell_type": "code",
   "execution_count": 24,
   "metadata": {},
   "outputs": [
    {
     "data": {
      "text/plain": [
       "array([[ 9, 10],\n",
       "       [15, 16]])"
      ]
     },
     "execution_count": 24,
     "metadata": {},
     "output_type": "execute_result"
    }
   ],
   "source": [
    "slide_arr[:, 1:3]"
   ]
  },
  {
   "cell_type": "code",
   "execution_count": 25,
   "metadata": {},
   "outputs": [
    {
     "name": "stdout",
     "output_type": "stream",
     "text": [
      "type:<class 'numpy.ndarray'>\n",
      "shape: (2, 4), dimension: 2, dtype:int64\n",
      "Array's Data:\n",
      " [[   8 9999 9999   11]\n",
      " [  14 9999 9999   17]]\n"
     ]
    }
   ],
   "source": [
    "slide_arr[:, 1:3] = 9999\n",
    "pprint(slide_arr)"
   ]
  },
  {
   "cell_type": "code",
   "execution_count": 27,
   "metadata": {},
   "outputs": [
    {
     "name": "stdout",
     "output_type": "stream",
     "text": [
      "type:<class 'numpy.ndarray'>\n",
      "shape: (4, 6), dimension: 2, dtype:int64\n",
      "Array's Data:\n",
      " [[   1    2    3    4    5    6]\n",
      " [   7    8 9999 9999   11   12]\n",
      " [  13   14 9999 9999   17   18]\n",
      " [  19   20   21   22   23   24]]\n"
     ]
    }
   ],
   "source": [
    "pprint(a1) # 원본에도 적용된다"
   ]
  },
  {
   "cell_type": "markdown",
   "metadata": {},
   "source": [
    "## 10.3 Boolean Indexing"
   ]
  },
  {
   "cell_type": "code",
   "execution_count": 28,
   "metadata": {},
   "outputs": [
    {
     "name": "stdout",
     "output_type": "stream",
     "text": [
      "type:<class 'numpy.ndarray'>\n",
      "shape: (4, 6), dimension: 2, dtype:int64\n",
      "Array's Data:\n",
      " [[ 1  2  3  4  5  6]\n",
      " [ 7  8  9 10 11 12]\n",
      " [13 14 15 16 17 18]\n",
      " [19 20 21 22 23 24]]\n"
     ]
    }
   ],
   "source": [
    "# 데모 배열 생성\n",
    "a1 = np.arange(1, 25).reshape((4, 6)) #2차원 배열\n",
    "pprint(a1)"
   ]
  },
  {
   "cell_type": "code",
   "execution_count": 30,
   "metadata": {},
   "outputs": [
    {
     "name": "stdout",
     "output_type": "stream",
     "text": [
      "type:<class 'numpy.ndarray'>\n",
      "shape: (4, 6), dimension: 2, dtype:bool\n",
      "Array's Data:\n",
      " [[False  True False  True False  True]\n",
      " [False  True False  True False  True]\n",
      " [False  True False  True False  True]\n",
      " [False  True False  True False  True]]\n"
     ]
    }
   ],
   "source": [
    "# 짝수인 요소 확인\n",
    "even_arr = a1%2 == 0\n",
    "pprint(even_arr)"
   ]
  },
  {
   "cell_type": "code",
   "execution_count": 31,
   "metadata": {},
   "outputs": [
    {
     "data": {
      "text/plain": [
       "array([ 2,  4,  6,  8, 10, 12, 14, 16, 18, 20, 22, 24])"
      ]
     },
     "execution_count": 31,
     "metadata": {},
     "output_type": "execute_result"
    }
   ],
   "source": [
    "a1[even_arr] # a1[a1%2 == 0] 같은 의미"
   ]
  },
  {
   "cell_type": "code",
   "execution_count": 32,
   "metadata": {},
   "outputs": [
    {
     "data": {
      "text/plain": [
       "300"
      ]
     },
     "execution_count": 32,
     "metadata": {},
     "output_type": "execute_result"
    }
   ],
   "source": [
    "np.sum(a1)"
   ]
  },
  {
   "cell_type": "code",
   "execution_count": 33,
   "metadata": {},
   "outputs": [
    {
     "data": {
      "text/plain": [
       "156"
      ]
     },
     "execution_count": 33,
     "metadata": {},
     "output_type": "execute_result"
    }
   ],
   "source": [
    "np.sum(a1[even_arr])"
   ]
  },
  {
   "cell_type": "code",
   "execution_count": null,
   "metadata": {},
   "outputs": [],
   "source": []
  }
 ],
 "metadata": {
  "kernelspec": {
   "display_name": "TensorFlow",
   "language": "python",
   "name": "tensorflow"
  },
  "language_info": {
   "codemirror_mode": {
    "name": "ipython",
    "version": 3
   },
   "file_extension": ".py",
   "mimetype": "text/x-python",
   "name": "python",
   "nbconvert_exporter": "python",
   "pygments_lexer": "ipython3",
   "version": "3.6.8"
  }
 },
 "nbformat": 4,
 "nbformat_minor": 2
}
