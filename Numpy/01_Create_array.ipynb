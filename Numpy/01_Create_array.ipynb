{
 "cells": [
  {
   "cell_type": "code",
   "execution_count": 1,
   "metadata": {},
   "outputs": [],
   "source": [
    "import numpy as np"
   ]
  },
  {
   "cell_type": "code",
   "execution_count": 2,
   "metadata": {},
   "outputs": [
    {
     "data": {
      "text/plain": [
       "'1.16.2'"
      ]
     },
     "execution_count": 2,
     "metadata": {},
     "output_type": "execute_result"
    }
   ],
   "source": [
    "np.__version__"
   ]
  },
  {
   "cell_type": "markdown",
   "metadata": {},
   "source": [
    "![tensor](https://taewanmerepo.github.io/2018/01/numpy/nparr.jpg)"
   ]
  },
  {
   "cell_type": "code",
   "execution_count": 3,
   "metadata": {},
   "outputs": [],
   "source": [
    "def pprint(arr):\n",
    "    print(\"type:{}\".format(type(arr)))\n",
    "    print(\"shape: {}, dimension: {}, dtype:{}\".format(arr.shape, arr.ndim, arr.dtype))\n",
    "    print(\"Array's Data:\\n\", arr)\n",
    "\n",
    "# Numpy 객체정보를 출력하는 용도"
   ]
  },
  {
   "cell_type": "markdown",
   "metadata": {},
   "source": [
    "# 1. 배열 생성\n",
    "  ### 1.1 파이썬 배열로 Numpy 배열 생성\n",
    "  * 파이썬 1차월 배열(list)로 Numpy 배열 생성"
   ]
  },
  {
   "cell_type": "code",
   "execution_count": 4,
   "metadata": {},
   "outputs": [],
   "source": [
    "arr = [1,2,3]\n",
    "a = np.array([1,2,3])"
   ]
  },
  {
   "cell_type": "code",
   "execution_count": 5,
   "metadata": {},
   "outputs": [
    {
     "name": "stdout",
     "output_type": "stream",
     "text": [
      "type:<class 'numpy.ndarray'>\n",
      "shape: (3,), dimension: 1, dtype:int64\n",
      "Array's Data:\n",
      " [1 2 3]\n"
     ]
    }
   ],
   "source": [
    "pprint(a)"
   ]
  },
  {
   "cell_type": "markdown",
   "metadata": {},
   "source": [
    "* 파이썬 2차원 배열로 Numpy 배열 생성, 원소 데이터타입 지정"
   ]
  },
  {
   "cell_type": "code",
   "execution_count": 6,
   "metadata": {},
   "outputs": [],
   "source": [
    "arr = [(1,2,3), (4,5,6)]\n",
    "a = np.array(arr, dtype= float)"
   ]
  },
  {
   "cell_type": "code",
   "execution_count": 7,
   "metadata": {},
   "outputs": [
    {
     "name": "stdout",
     "output_type": "stream",
     "text": [
      "type:<class 'numpy.ndarray'>\n",
      "shape: (2, 3), dimension: 2, dtype:float64\n",
      "Array's Data:\n",
      " [[1. 2. 3.]\n",
      " [4. 5. 6.]]\n"
     ]
    }
   ],
   "source": [
    "pprint(a)"
   ]
  },
  {
   "cell_type": "markdown",
   "metadata": {},
   "source": [
    "* 파이썬 3차원 배열로 Numpy 배열 생성 및 데이터타입 지정"
   ]
  },
  {
   "cell_type": "code",
   "execution_count": 9,
   "metadata": {},
   "outputs": [],
   "source": [
    "arr = np.array([[[1,2,3], [4,5,6]], [[3,2,1], [4,5,6]]], dtype= float)\n",
    "a = np.array(arr, dtype=float)"
   ]
  },
  {
   "cell_type": "code",
   "execution_count": 10,
   "metadata": {},
   "outputs": [
    {
     "name": "stdout",
     "output_type": "stream",
     "text": [
      "type:<class 'numpy.ndarray'>\n",
      "shape: (2, 2, 3), dimension: 3, dtype:float64\n",
      "Array's Data:\n",
      " [[[1. 2. 3.]\n",
      "  [4. 5. 6.]]\n",
      "\n",
      " [[3. 2. 1.]\n",
      "  [4. 5. 6.]]]\n"
     ]
    }
   ],
   "source": [
    "pprint(a)"
   ]
  },
  {
   "cell_type": "code",
   "execution_count": 11,
   "metadata": {},
   "outputs": [
    {
     "name": "stdout",
     "output_type": "stream",
     "text": [
      "type:<class 'numpy.ndarray'>\n",
      "shape: (2, 2, 3), dimension: 3, dtype:float64\n",
      "Array's Data:\n",
      " [[[1. 2. 3.]\n",
      "  [4. 5. 6.]]\n",
      "\n",
      " [[3. 2. 1.]\n",
      "  [4. 5. 6.]]]\n"
     ]
    }
   ],
   "source": [
    "pprint(arr)"
   ]
  },
  {
   "cell_type": "markdown",
   "metadata": {},
   "source": [
    "___\n",
    "### 1.2 배열 생성 및 초기화\n",
    "Numpy는 원하는 shape로 배열을 설정하고, 각 요소를 특정 값으로 초기화하는 **zeros, ones, full, eye** 함수를 제공한다.  \n",
    "또한 파라미터로 입력한 배열과 같은 shape의 배열을 만드는 **zeros_like, ones_like, full_like** 함수도 제공  \n",
    "  \n",
    "**np.zeros**\n",
    "* zeros(shape, dtype=float, order='C')\n",
    "* 지정된 shape의 배열을 생성하고, 모든 요소를 0으로 초기화"
   ]
  },
  {
   "cell_type": "code",
   "execution_count": 13,
   "metadata": {},
   "outputs": [
    {
     "name": "stdout",
     "output_type": "stream",
     "text": [
      "type:<class 'numpy.ndarray'>\n",
      "shape: (3, 4), dimension: 2, dtype:float64\n",
      "Array's Data:\n",
      " [[0. 0. 0. 0.]\n",
      " [0. 0. 0. 0.]\n",
      " [0. 0. 0. 0.]]\n"
     ]
    }
   ],
   "source": [
    "a = np.zeros((3,4))\n",
    "pprint(a)"
   ]
  },
  {
   "cell_type": "markdown",
   "metadata": {},
   "source": [
    "**np.ones**\n",
    "* np.ones(shape, dtpye=None, order='C')\n",
    "* 지정된 shape의 배열을 생성하고, 모든 요소를 1로 초기화"
   ]
  },
  {
   "cell_type": "code",
   "execution_count": 16,
   "metadata": {},
   "outputs": [
    {
     "name": "stdout",
     "output_type": "stream",
     "text": [
      "type:<class 'numpy.ndarray'>\n",
      "shape: (2, 3, 4), dimension: 3, dtype:int16\n",
      "Array's Data:\n",
      " [[[1 1 1 1]\n",
      "  [1 1 1 1]\n",
      "  [1 1 1 1]]\n",
      "\n",
      " [[1 1 1 1]\n",
      "  [1 1 1 1]\n",
      "  [1 1 1 1]]]\n"
     ]
    }
   ],
   "source": [
    "a = np.ones((2,3,4),dtype=np.int16)\n",
    "pprint(a)"
   ]
  },
  {
   "cell_type": "markdown",
   "metadata": {},
   "source": [
    "**np.full**\n",
    "* np.full(shape, fill_value, dtype=None, order='C')\n",
    "* 지정된 shape의 배열을 생성하고, 모든 요소를 지정한 'fill_value'로 초기화"
   ]
  },
  {
   "cell_type": "code",
   "execution_count": 17,
   "metadata": {},
   "outputs": [
    {
     "name": "stdout",
     "output_type": "stream",
     "text": [
      "type:<class 'numpy.ndarray'>\n",
      "shape: (2, 2), dimension: 2, dtype:int64\n",
      "Array's Data:\n",
      " [[7 7]\n",
      " [7 7]]\n"
     ]
    }
   ],
   "source": [
    "a = np.full((2,2),7)\n",
    "pprint(a)"
   ]
  },
  {
   "cell_type": "markdown",
   "metadata": {},
   "source": [
    "**np.eye**\n",
    "* np.eye(N, M=None, k=0, dtype=<class'float'>)\n",
    "* (N,N) shape의 단위행렬을 생성"
   ]
  },
  {
   "cell_type": "code",
   "execution_count": 18,
   "metadata": {},
   "outputs": [
    {
     "data": {
      "text/plain": [
       "array([[1., 0., 0., 0.],\n",
       "       [0., 1., 0., 0.],\n",
       "       [0., 0., 1., 0.],\n",
       "       [0., 0., 0., 1.]])"
      ]
     },
     "execution_count": 18,
     "metadata": {},
     "output_type": "execute_result"
    }
   ],
   "source": [
    "np.eye(4)"
   ]
  },
  {
   "cell_type": "markdown",
   "metadata": {},
   "source": [
    "**np.empty**\n",
    "* empty(shape, dtype=float, order='C')\n",
    "* 지정된 shape의 배열 생성\n",
    "* 요소 초기화 과정이 없고, 기존 메모리값을 그대로 사용\n",
    "* 배열 생성비용이 가장 저렴하고 빠름\n",
    "* 배열 사용시 초기화를 고려해야함. 주의"
   ]
  },
  {
   "cell_type": "code",
   "execution_count": 19,
   "metadata": {},
   "outputs": [
    {
     "name": "stdout",
     "output_type": "stream",
     "text": [
      "type:<class 'numpy.ndarray'>\n",
      "shape: (4, 2), dimension: 2, dtype:float64\n",
      "Array's Data:\n",
      " [[4.65020709e-310 1.18575755e-321]\n",
      " [0.00000000e+000 4.65020710e-310]\n",
      " [4.94065646e-324 4.65020710e-310]\n",
      " [1.38338381e-322 6.92481564e-310]]\n"
     ]
    }
   ],
   "source": [
    "a = np.empty((4,2))\n",
    "pprint(a)"
   ]
  },
  {
   "cell_type": "markdown",
   "metadata": {},
   "source": [
    "**like**\n",
    "* numpy는 지정된 배열과 shape가 같은 배열을 만드는 like함수 존재\n",
    "* np.zeros_like\n",
    "* np.ones_like\n",
    "* np.full_like\n",
    "* np.empty_like"
   ]
  },
  {
   "cell_type": "code",
   "execution_count": 20,
   "metadata": {},
   "outputs": [
    {
     "name": "stdout",
     "output_type": "stream",
     "text": [
      "type:<class 'numpy.ndarray'>\n",
      "shape: (2, 3), dimension: 2, dtype:int64\n",
      "Array's Data:\n",
      " [[1 1 1]\n",
      " [1 1 1]]\n"
     ]
    }
   ],
   "source": [
    "a = np.array([[1,2,3],[4,5,6]])\n",
    "b = np.ones_like(a)\n",
    "pprint(b)"
   ]
  },
  {
   "cell_type": "markdown",
   "metadata": {},
   "source": [
    "___\n",
    "### 1.3 데이터 생성 함수\n",
    "주어진 조건으로 데이터를 생성한 후, 배열을 만듬\n",
    "* np.linspace\n",
    "* np. arange\n",
    "* np.logspace\n",
    "  \n",
    "  **np.linspace**\n",
    "  * np.linspace(start, stop, num=50, endpoint=True, retstep=False, dtype=None)\n",
    "  * start부터 stop의 범위에서 num개의 균일한 간격으로 데이터를 생성하고 배열 생성\n",
    "  * 요소 개수를 기준으로 균등한 간격의 배열 생성"
   ]
  },
  {
   "cell_type": "code",
   "execution_count": 22,
   "metadata": {},
   "outputs": [
    {
     "name": "stdout",
     "output_type": "stream",
     "text": [
      "type:<class 'numpy.ndarray'>\n",
      "shape: (5,), dimension: 1, dtype:float64\n",
      "Array's Data:\n",
      " [0.   0.25 0.5  0.75 1.  ]\n"
     ]
    }
   ],
   "source": [
    "a = np.linspace(0,1,5)\n",
    "pprint(a)"
   ]
  },
  {
   "cell_type": "code",
   "execution_count": 26,
   "metadata": {},
   "outputs": [
    {
     "data": {
      "text/plain": [
       "<function ndarray.all>"
      ]
     },
     "execution_count": 26,
     "metadata": {},
     "output_type": "execute_result"
    }
   ],
   "source": [
    "a.all"
   ]
  },
  {
   "cell_type": "code",
   "execution_count": 28,
   "metadata": {},
   "outputs": [
    {
     "data": {
      "image/png": "[encoded data removed]",
      "text/plain": [
       "<Figure size 432x288 with 1 Axes>"
      ]
     },
     "metadata": {
      "needs_background": "light"
     },
     "output_type": "display_data"
    }
   ],
   "source": [
    "import matplotlib.pyplot as plt\n",
    "%matplotlib inline\n",
    "\n",
    "plt.plot(a, 'o')\n",
    "plt.show()"
   ]
  },
  {
   "cell_type": "markdown",
   "metadata": {},
   "source": [
    "**np.arrage**\n",
    "* numpy.arange(start, stop, step, dtype=None)\n",
    "* start부터 stop미만까지 step 간격으로 데이터 및 배열 생성\n",
    "* 범위내에서 간격을 기준으로 균등한 간격의 배열\n",
    "* 요소의 갯수가 아닌 데이터의 간격을 기준으로 배열 생성"
   ]
  },
  {
   "cell_type": "code",
   "execution_count": 30,
   "metadata": {},
   "outputs": [
    {
     "name": "stdout",
     "output_type": "stream",
     "text": [
      "type:<class 'numpy.ndarray'>\n",
      "shape: (4,), dimension: 1, dtype:float64\n",
      "Array's Data:\n",
      " [0. 3. 6. 9.]\n"
     ]
    }
   ],
   "source": [
    "a = np.arange(0,10,3, np.float)\n",
    "pprint(a)"
   ]
  },
  {
   "cell_type": "code",
   "execution_count": 31,
   "metadata": {},
   "outputs": [
    {
     "data": {
      "image/png": "[encoded data removed]",
      "text/plain": [
       "<Figure size 432x288 with 1 Axes>"
      ]
     },
     "metadata": {
      "needs_background": "light"
     },
     "output_type": "display_data"
    }
   ],
   "source": [
    "import matplotlib.pyplot as plt\n",
    "%matplotlib inline\n",
    "\n",
    "plt.plot(a, 'o')\n",
    "plt.show()"
   ]
  },
  {
   "cell_type": "markdown",
   "metadata": {},
   "source": [
    "**np.logspace**\n",
    "* np.logspace(start, stop, num=50, endpoint=True, base=10.0, dtype=None)\n",
    "* 로그스케일의 linspace함수\n",
    "* 로그스케일로 지정된 범위에서 num 갯수만큼 균등한 간격으로 데이터 및 배열 생성"
   ]
  },
  {
   "cell_type": "code",
   "execution_count": 32,
   "metadata": {},
   "outputs": [
    {
     "name": "stdout",
     "output_type": "stream",
     "text": [
      "type:<class 'numpy.ndarray'>\n",
      "shape: (20,), dimension: 1, dtype:float64\n",
      "Array's Data:\n",
      " [ 1.25892541  1.40400425  1.565802    1.74624535  1.94748304  2.1719114\n",
      "  2.42220294  2.70133812  3.0126409   3.35981829  3.74700446  4.17881006\n",
      "  4.66037703  5.19743987  5.79639395  6.46437163  7.2093272   8.04013161\n",
      "  8.9666781  10.        ]\n"
     ]
    }
   ],
   "source": [
    "a = np.logspace(0.1, 1, 20, endpoint=True)\n",
    "pprint(a)"
   ]
  },
  {
   "cell_type": "code",
   "execution_count": 34,
   "metadata": {},
   "outputs": [
    {
     "data": {
      "image/png": "[encoded data removed]",
      "text/plain": [
       "<Figure size 432x288 with 1 Axes>"
      ]
     },
     "metadata": {
      "needs_background": "light"
     },
     "output_type": "display_data"
    }
   ],
   "source": [
    "import matplotlib.pyplot as plt\n",
    "%matplotlib inline\n",
    "\n",
    "plt.plot(a, 'o')\n",
    "plt.show()"
   ]
  },
  {
   "cell_type": "markdown",
   "metadata": {},
   "source": [
    "___\n",
    "### 1.4 난수 기반 배열 생성\n",
    "난수 발생 및 배열을 생성하는 np.random 모듈\n",
    "* np.random.normal\n",
    "* np.random.rand\n",
    "* np.random.randn\n",
    "* np.random.randint\n",
    "* np.random.random\n",
    "  \n",
    "  **np.random.normal**\n",
    "  * normal(loc=0.0, scale=1.0, size=None)\n",
    "  * 정규분포에서 표본 추출\n",
    "  * loc: 정규분포의 평균\n",
    "  * scale: 표준편차"
   ]
  },
  {
   "cell_type": "code",
   "execution_count": 35,
   "metadata": {},
   "outputs": [
    {
     "name": "stdout",
     "output_type": "stream",
     "text": [
      "type:<class 'numpy.ndarray'>\n",
      "shape: (2, 3), dimension: 2, dtype:float64\n",
      "Array's Data:\n",
      " [[ 0.87990738  0.17000533 -0.3563163 ]\n",
      " [-0.35556604 -0.95286304  0.2861407 ]]\n"
     ]
    }
   ],
   "source": [
    "mean = 0\n",
    "std = 1\n",
    "a = np.random.normal(mean, std, (2,3))\n",
    "pprint(a)"
   ]
  },
  {
   "cell_type": "markdown",
   "metadata": {},
   "source": [
    "\n",
    "    "
   ]
  },
  {
   "cell_type": "code",
   "execution_count": 36,
   "metadata": {},
   "outputs": [
    {
     "data": {
      "image/png": "[encoded data removed]",
      "text/plain": [
       "<Figure size 432x288 with 1 Axes>"
      ]
     },
     "metadata": {
      "needs_background": "light"
     },
     "output_type": "display_data"
    }
   ],
   "source": [
    "data = np.random.normal(0, 1, 10000)\n",
    "import matplotlib.pyplot as plt\n",
    "%matplotlib inline\n",
    "# np.random.normal이 생성한 산수는 정규분포 모양을 가짐\n",
    "plt.hist(data, bins=100)\n",
    "plt.show()"
   ]
  },
  {
   "cell_type": "markdown",
   "metadata": {},
   "source": [
    "**np.random.rand**\n",
    "* np.random.rand(d0, d1, ... dn)\n",
    "* shape가 (d0, d1, ... dn)인 배열 생성후 난수로 초기화\n",
    "* 난수: [0,1]의 균등분포 형상으로 표본 추출\n",
    "* Gaussian normal"
   ]
  },
  {
   "cell_type": "code",
   "execution_count": 38,
   "metadata": {},
   "outputs": [
    {
     "name": "stdout",
     "output_type": "stream",
     "text": [
      "type:<class 'numpy.ndarray'>\n",
      "shape: (3, 2), dimension: 2, dtype:float64\n",
      "Array's Data:\n",
      " [[0.40549565 0.81162705]\n",
      " [0.80778234 0.05742598]\n",
      " [0.79074811 0.86171932]]\n"
     ]
    }
   ],
   "source": [
    "a = np.random.rand(3,2)\n",
    "pprint(a)"
   ]
  },
  {
   "cell_type": "code",
   "execution_count": 40,
   "metadata": {},
   "outputs": [
    {
     "data": {
      "image/png": "[encoded data removed]",
      "text/plain": [
       "<Figure size 432x288 with 1 Axes>"
      ]
     },
     "metadata": {
      "needs_background": "light"
     },
     "output_type": "display_data"
    }
   ],
   "source": [
    "data = np.random.rand(10000)\n",
    "\n",
    "# np.random.rand는 균등한 비율로 표본 추출\n",
    "plt.hist(data, bins=10)\n",
    "plt.show()"
   ]
  },
  {
   "cell_type": "markdown",
   "metadata": {},
   "source": [
    "**np.random.randn**\n",
    "* np.random.randn(d0,d1,...dn)\n",
    "* (d0,d1...dn) shape의 배열 생성 후 난수로 초기화\n",
    "* 난수: 표준정규분포에서 추출"
   ]
  },
  {
   "cell_type": "code",
   "execution_count": 41,
   "metadata": {},
   "outputs": [
    {
     "name": "stdout",
     "output_type": "stream",
     "text": [
      "type:<class 'numpy.ndarray'>\n",
      "shape: (2, 4), dimension: 2, dtype:float64\n",
      "Array's Data:\n",
      " [[ 0.25935579 -0.94547404  0.68544819  0.6868686 ]\n",
      " [ 0.88439121 -0.81821805  0.79692185  0.4782629 ]]\n"
     ]
    }
   ],
   "source": [
    "a = np.random.randn(2,4)\n",
    "pprint(a)"
   ]
  },
  {
   "cell_type": "code",
   "execution_count": 42,
   "metadata": {},
   "outputs": [
    {
     "data": {
      "image/png": "[encoded data removed]",
      "text/plain": [
       "<Figure size 432x288 with 1 Axes>"
      ]
     },
     "metadata": {
      "needs_background": "light"
     },
     "output_type": "display_data"
    }
   ],
   "source": [
    "data = np.random.randn(10000)\n",
    "\n",
    "plt.hist(data, bins=10)\n",
    "plt.show()"
   ]
  },
  {
   "cell_type": "markdown",
   "metadata": {},
   "source": [
    "**np.random.randint**\n",
    "* np.random.randint(low,high, size=None, dtype='I')\n",
    "* 지정된 shape로 배열을 만들고 low이상 high미만의 범위에서 정수 추출"
   ]
  },
  {
   "cell_type": "code",
   "execution_count": 43,
   "metadata": {},
   "outputs": [
    {
     "name": "stdout",
     "output_type": "stream",
     "text": [
      "type:<class 'numpy.ndarray'>\n",
      "shape: (2, 4), dimension: 2, dtype:int64\n",
      "Array's Data:\n",
      " [[9 8 9 6]\n",
      " [6 5 9 9]]\n"
     ]
    }
   ],
   "source": [
    "a = np.random.randint(5,10, size=(2,4))\n",
    "pprint(a)"
   ]
  },
  {
   "cell_type": "code",
   "execution_count": 44,
   "metadata": {},
   "outputs": [
    {
     "data": {
      "image/png": "[encoded data removed]",
      "text/plain": [
       "<Figure size 432x288 with 1 Axes>"
      ]
     },
     "metadata": {
      "needs_background": "light"
     },
     "output_type": "display_data"
    }
   ],
   "source": [
    "data = np.random.randint(-100,100,10000)\n",
    "\n",
    "plt.hist(data, bins=10)\n",
    "plt.show()"
   ]
  },
  {
   "cell_type": "markdown",
   "metadata": {},
   "source": [
    "**np.random.random**\n",
    "* np.random.random(size=None)\n",
    "* 난수 [0., 1.)의 균등분포에서 표본 추출"
   ]
  },
  {
   "cell_type": "code",
   "execution_count": 45,
   "metadata": {},
   "outputs": [
    {
     "name": "stdout",
     "output_type": "stream",
     "text": [
      "type:<class 'numpy.ndarray'>\n",
      "shape: (2, 4), dimension: 2, dtype:float64\n",
      "Array's Data:\n",
      " [[0.21940265 0.22868772 0.11399146 0.19664964]\n",
      " [0.58377704 0.8209819  0.5371045  0.39642018]]\n"
     ]
    }
   ],
   "source": [
    "a = np.random.random((2,4))\n",
    "pprint(a)"
   ]
  },
  {
   "cell_type": "code",
   "execution_count": 46,
   "metadata": {},
   "outputs": [
    {
     "data": {
      "image/png": "[encoded data removed]",
      "text/plain": [
       "<Figure size 432x288 with 1 Axes>"
      ]
     },
     "metadata": {
      "needs_background": "light"
     },
     "output_type": "display_data"
    }
   ],
   "source": [
    "data = np.random.randint(-100,100,10000)\n",
    "\n",
    "plt.hist(data, bins=10)\n",
    "plt.show()"
   ]
  },
  {
   "cell_type": "markdown",
   "metadata": {},
   "source": [
    "___\n",
    "### 2.5 약속된 난수\n",
    "시작점을 설정하여 난수 발생을 재연할 수 있다.  \n",
    "난수의 시작점을 설정하는 함수가 np.random.seed\n",
    "* random 모듈의 함수는 실행할 때 마다 무작위 수를 반환"
   ]
  },
  {
   "cell_type": "code",
   "execution_count": 47,
   "metadata": {},
   "outputs": [
    {
     "data": {
      "text/plain": [
       "array([[0.7112345 , 0.46263929],\n",
       "       [0.60411525, 0.36860745]])"
      ]
     },
     "execution_count": 47,
     "metadata": {},
     "output_type": "execute_result"
    }
   ],
   "source": [
    "np.random.random((2,2))"
   ]
  },
  {
   "cell_type": "code",
   "execution_count": 48,
   "metadata": {},
   "outputs": [
    {
     "data": {
      "text/plain": [
       "array([[4, 8, 7],\n",
       "       [2, 0, 9]])"
      ]
     },
     "execution_count": 48,
     "metadata": {},
     "output_type": "execute_result"
    }
   ],
   "source": [
    "np.random.randint(0,10, (2,3))"
   ]
  },
  {
   "cell_type": "code",
   "execution_count": 49,
   "metadata": {},
   "outputs": [
    {
     "data": {
      "text/plain": [
       "array([[0.04848045, 0.66867577],\n",
       "       [0.49704871, 0.24986372]])"
      ]
     },
     "execution_count": 49,
     "metadata": {},
     "output_type": "execute_result"
    }
   ],
   "source": [
    "np.random.random((2,2))"
   ]
  },
  {
   "cell_type": "code",
   "execution_count": 50,
   "metadata": {},
   "outputs": [
    {
     "data": {
      "text/plain": [
       "array([[5, 5, 4],\n",
       "       [9, 2, 4]])"
      ]
     },
     "execution_count": 50,
     "metadata": {},
     "output_type": "execute_result"
    }
   ],
   "source": [
    "np.random.randint(0,10, (2,3))"
   ]
  },
  {
   "cell_type": "markdown",
   "metadata": {},
   "source": [
    "* np.random.seed를 이용해 무작위수 재연\n",
    "* np.random.seed(100)을 기준으로 동일한 무작위수로 초기화된 배열 생성"
   ]
  },
  {
   "cell_type": "code",
   "execution_count": 51,
   "metadata": {},
   "outputs": [],
   "source": [
    "# seed 값을 설정하여 아래에서 난수가 재연 가능하도록\n",
    "np.random.seed(100)"
   ]
  },
  {
   "cell_type": "code",
   "execution_count": 52,
   "metadata": {},
   "outputs": [
    {
     "data": {
      "text/plain": [
       "array([[0.54340494, 0.27836939],\n",
       "       [0.42451759, 0.84477613]])"
      ]
     },
     "execution_count": 52,
     "metadata": {},
     "output_type": "execute_result"
    }
   ],
   "source": [
    "np.random.random((2,2))"
   ]
  },
  {
   "cell_type": "code",
   "execution_count": 53,
   "metadata": {},
   "outputs": [
    {
     "data": {
      "text/plain": [
       "array([[4, 2, 5],\n",
       "       [2, 2, 2]])"
      ]
     },
     "execution_count": 53,
     "metadata": {},
     "output_type": "execute_result"
    }
   ],
   "source": [
    "np.random.randint(0,10, (2,3))"
   ]
  },
  {
   "cell_type": "code",
   "execution_count": 54,
   "metadata": {},
   "outputs": [],
   "source": [
    "# seed 값 재설정\n",
    "np.random.seed(100)"
   ]
  },
  {
   "cell_type": "code",
   "execution_count": 55,
   "metadata": {},
   "outputs": [
    {
     "data": {
      "text/plain": [
       "array([[0.54340494, 0.27836939],\n",
       "       [0.42451759, 0.84477613]])"
      ]
     },
     "execution_count": 55,
     "metadata": {},
     "output_type": "execute_result"
    }
   ],
   "source": [
    "# 위 난수 재연\n",
    "np.random.random((2,2))"
   ]
  },
  {
   "cell_type": "code",
   "execution_count": 56,
   "metadata": {},
   "outputs": [
    {
     "data": {
      "text/plain": [
       "array([[4, 2, 5],\n",
       "       [2, 2, 2]])"
      ]
     },
     "execution_count": 56,
     "metadata": {},
     "output_type": "execute_result"
    }
   ],
   "source": [
    "np.random.randint(0,10,(2,3))"
   ]
  },
  {
   "cell_type": "code",
   "execution_count": 57,
   "metadata": {},
   "outputs": [
    {
     "data": {
      "text/plain": [
       "array([[0.13670659, 0.57509333],\n",
       "       [0.89132195, 0.20920212]])"
      ]
     },
     "execution_count": 57,
     "metadata": {},
     "output_type": "execute_result"
    }
   ],
   "source": [
    "np.random.random((2,2))"
   ]
  },
  {
   "cell_type": "code",
   "execution_count": 58,
   "metadata": {},
   "outputs": [
    {
     "data": {
      "text/plain": [
       "array([[0.54340494, 0.27836939],\n",
       "       [0.42451759, 0.84477613]])"
      ]
     },
     "execution_count": 58,
     "metadata": {},
     "output_type": "execute_result"
    }
   ],
   "source": [
    "np.random.seed(100)\n",
    "np.random.random((2,2))"
   ]
  },
  {
   "cell_type": "code",
   "execution_count": null,
   "metadata": {},
   "outputs": [],
   "source": []
  }
 ],
 "metadata": {
  "kernelspec": {
   "display_name": "TensorFlow",
   "language": "python",
   "name": "tensorflow"
  },
  "language_info": {
   "codemirror_mode": {
    "name": "ipython",
    "version": 3
   },
   "file_extension": ".py",
   "mimetype": "text/x-python",
   "name": "python",
   "nbconvert_exporter": "python",
   "pygments_lexer": "ipython3",
   "version": "3.6.8"
  }
 },
 "nbformat": 4,
 "nbformat_minor": 2
}
