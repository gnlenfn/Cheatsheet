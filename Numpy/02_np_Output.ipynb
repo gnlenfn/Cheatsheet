{
 "cells": [
  {
   "cell_type": "code",
   "execution_count": 59,
   "metadata": {},
   "outputs": [],
   "source": [
    "import numpy as np"
   ]
  },
  {
   "cell_type": "markdown",
   "metadata": {},
   "source": [
    "# Numpy 입출력\n",
    "Numpy는 배열 객체를 바이너리 파일 혹은 텍스트파일에 저장하고 로딩할 수 있다.  "
   ]
  },
  {
   "cell_type": "markdown",
   "metadata": {},
   "source": [
    "| 함수명       | 기능                                | 파일포맷 |\n",
    "|--------------|-------------------------------------|----------|\n",
    "| np.save()    | Numpy배열 객체 1개를 파일에 저장    | 바이너리 |\n",
    "| np.savez()   | Numpy배열 여러개를 파일에 저장      | 바이너리 |\n",
    "| np.load()    | Numpy배열 저장 파일로부터 객체 로딩 | 바이너리 |\n",
    "| np.loadtxt() | 텍스트파일로부터 배열 로딩          | 텍스트   |\n",
    "| np.savetxt() | 텍스트파일에 Numpy배열 객체 저장    | 텍스트   |"
   ]
  },
  {
   "cell_type": "code",
   "execution_count": 60,
   "metadata": {},
   "outputs": [
    {
     "name": "stdout",
     "output_type": "stream",
     "text": [
      "type:<class 'numpy.ndarray'>\n",
      "shape: (2, 3), dimension: 2, dtype:int64\n",
      "Array's Data:\n",
      " [[4 2 5]\n",
      " [2 2 2]]\n",
      "type:<class 'numpy.ndarray'>\n",
      "shape: (2, 3), dimension: 2, dtype:int64\n",
      "Array's Data:\n",
      " [[1 0 8]\n",
      " [4 0 9]]\n"
     ]
    }
   ],
   "source": [
    "a = np.random.randint(0,10,(2,3))\n",
    "b = np.random.randint(0,10, (2,3))\n",
    "pprint(a)\n",
    "pprint(b)"
   ]
  },
  {
   "cell_type": "markdown",
   "metadata": {},
   "source": [
    "**배열 객체 저장**\n",
    "np.save, np.savez 함수를 이용하여 배열 객체를 파일로 저장\n",
    "* np.save: 1개 배열 저장, 확장자:npy\n",
    "* np.savez: 여러개 배열 저장, 확장자:npz\n",
    "* 바이너리파일로 저장"
   ]
  },
  {
   "cell_type": "code",
   "execution_count": 61,
   "metadata": {},
   "outputs": [],
   "source": [
    "np.save(\"./my_array1\", a)"
   ]
  },
  {
   "cell_type": "code",
   "execution_count": 62,
   "metadata": {},
   "outputs": [],
   "source": [
    "np.savez(\"./my_array2\",a,b)"
   ]
  },
  {
   "cell_type": "markdown",
   "metadata": {},
   "source": [
    "* npy와 npz파일은 np.load() 함수로 읽어온다"
   ]
  },
  {
   "cell_type": "code",
   "execution_count": 63,
   "metadata": {},
   "outputs": [
    {
     "data": {
      "text/plain": [
       "array([[4, 2, 5],\n",
       "       [2, 2, 2]])"
      ]
     },
     "execution_count": 63,
     "metadata": {},
     "output_type": "execute_result"
    }
   ],
   "source": [
    "np.load(\"./my_array1.npy\")"
   ]
  },
  {
   "cell_type": "code",
   "execution_count": 65,
   "metadata": {},
   "outputs": [
    {
     "data": {
      "text/plain": [
       "['arr_0', 'arr_1']"
      ]
     },
     "execution_count": 65,
     "metadata": {},
     "output_type": "execute_result"
    }
   ],
   "source": [
    "npzfiles = np.load(\"./my_array2.npz\")\n",
    "npzfiles.files"
   ]
  },
  {
   "cell_type": "code",
   "execution_count": 66,
   "metadata": {},
   "outputs": [
    {
     "data": {
      "text/plain": [
       "array([[4, 2, 5],\n",
       "       [2, 2, 2]])"
      ]
     },
     "execution_count": 66,
     "metadata": {},
     "output_type": "execute_result"
    }
   ],
   "source": [
    "npzfiles['arr_0']"
   ]
  },
  {
   "cell_type": "code",
   "execution_count": 67,
   "metadata": {},
   "outputs": [
    {
     "data": {
      "text/plain": [
       "array([[1, 0, 8],\n",
       "       [4, 0, 9]])"
      ]
     },
     "execution_count": 67,
     "metadata": {},
     "output_type": "execute_result"
    }
   ],
   "source": [
    "npzfiles['arr_1']"
   ]
  },
  {
   "cell_type": "markdown",
   "metadata": {},
   "source": [
    "**텍스트파일 로딩**\n",
    "텍스트파일을 np.loadtxt()로 로드할 수 있다.\n",
    "* np.loadtxt(fname, dtype=<class float>, comments='#', delimiter=None, convertesr=None, skiprows=0, usecols=None, unpack=False, ndmin=0)\n",
    "    * fname: 파일명\n",
    "    * dtype: 데이터 타입\n",
    "    * comments: comment 시작 부호\n",
    "    * delimiter: 구분자\n",
    "    * skiprows: 제외 라인 수(header 제거)"
   ]
  },
  {
   "cell_type": "code",
   "execution_count": null,
   "metadata": {},
   "outputs": [],
   "source": []
  }
 ],
 "metadata": {
  "kernelspec": {
   "display_name": "TensorFlow",
   "language": "python",
   "name": "tensorflow"
  },
  "language_info": {
   "codemirror_mode": {
    "name": "ipython",
    "version": 3
   },
   "file_extension": ".py",
   "mimetype": "text/x-python",
   "name": "python",
   "nbconvert_exporter": "python",
   "pygments_lexer": "ipython3",
   "version": "3.6.8"
  }
 },
 "nbformat": 4,
 "nbformat_minor": 2
}
