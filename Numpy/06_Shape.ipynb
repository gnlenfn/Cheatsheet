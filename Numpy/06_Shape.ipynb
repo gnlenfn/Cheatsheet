{
 "cells": [
  {
   "cell_type": "markdown",
   "metadata": {},
   "source": [
    "# 11. 배열 변환\n",
    "Transpose, reshape, append, concatenate 등의 배열 변경 방법\n",
    "## 11.1 전치(Transpose)\n",
    "행과 열을 바꾸는 것"
   ]
  },
  {
   "cell_type": "code",
   "execution_count": 2,
   "metadata": {},
   "outputs": [],
   "source": [
    "import numpy as np\n",
    "\n",
    "def pprint(arr):\n",
    "    print(\"type:{}\".format(type(arr)))\n",
    "    print(\"shape: {}, dimension: {}, dtype:{}\".format(arr.shape, arr.ndim, arr.dtype))\n",
    "    print(\"Array's Data:\\n\", arr)\n",
    "\n",
    "# Numpy 객체정보를 출력하는 용도"
   ]
  },
  {
   "cell_type": "code",
   "execution_count": 3,
   "metadata": {},
   "outputs": [
    {
     "name": "stdout",
     "output_type": "stream",
     "text": [
      "type:<class 'numpy.ndarray'>\n",
      "shape: (2, 3), dimension: 2, dtype:int64\n",
      "Array's Data:\n",
      " [[1 6 3]\n",
      " [6 2 7]]\n"
     ]
    }
   ],
   "source": [
    "# 행렬 생성\n",
    "a = np.random.randint(1, 10, (2, 3))\n",
    "pprint(a)"
   ]
  },
  {
   "cell_type": "code",
   "execution_count": 4,
   "metadata": {},
   "outputs": [
    {
     "name": "stdout",
     "output_type": "stream",
     "text": [
      "type:<class 'numpy.ndarray'>\n",
      "shape: (3, 2), dimension: 2, dtype:int64\n",
      "Array's Data:\n",
      " [[1 6]\n",
      " [6 2]\n",
      " [3 7]]\n"
     ]
    }
   ],
   "source": [
    "pprint(a.T)"
   ]
  },
  {
   "cell_type": "markdown",
   "metadata": {},
   "source": [
    "## 11.2 배열 형태 변경\n",
    "ravel과 reshape 메서드 있다.\n",
    "* revel : 배열을 1차원 배열로 만듬 (flatten?)\n",
    "* reshape : 데이터 변경없이 지정된 shape로 변경\n",
    "  \n",
    " ### **arr.ravel()**  \n",
    "  ravel 메서드가 반환하는 배열의 요소를 수정하면 원본에서도 반영된다"
   ]
  },
  {
   "cell_type": "code",
   "execution_count": 6,
   "metadata": {},
   "outputs": [
    {
     "name": "stdout",
     "output_type": "stream",
     "text": [
      "type:<class 'numpy.ndarray'>\n",
      "shape: (2, 3), dimension: 2, dtype:int64\n",
      "Array's Data:\n",
      " [[4 9 9]\n",
      " [5 6 2]]\n"
     ]
    }
   ],
   "source": [
    "a = np.random.randint(1,10, (2,3))\n",
    "pprint(a)"
   ]
  },
  {
   "cell_type": "code",
   "execution_count": 7,
   "metadata": {},
   "outputs": [
    {
     "data": {
      "text/plain": [
       "array([4, 9, 9, 5, 6, 2])"
      ]
     },
     "execution_count": 7,
     "metadata": {},
     "output_type": "execute_result"
    }
   ],
   "source": [
    "a.ravel()"
   ]
  },
  {
   "cell_type": "code",
   "execution_count": 8,
   "metadata": {},
   "outputs": [
    {
     "name": "stdout",
     "output_type": "stream",
     "text": [
      "type:<class 'numpy.ndarray'>\n",
      "shape: (6,), dimension: 1, dtype:int64\n",
      "Array's Data:\n",
      " [4 9 9 5 6 2]\n"
     ]
    }
   ],
   "source": [
    "b = a.ravel()\n",
    "pprint(b)"
   ]
  },
  {
   "cell_type": "code",
   "execution_count": 9,
   "metadata": {},
   "outputs": [
    {
     "name": "stdout",
     "output_type": "stream",
     "text": [
      "type:<class 'numpy.ndarray'>\n",
      "shape: (6,), dimension: 1, dtype:int64\n",
      "Array's Data:\n",
      " [9999    9    9    5    6    2]\n"
     ]
    }
   ],
   "source": [
    "b[0] = 9999\n",
    "pprint(b)"
   ]
  },
  {
   "cell_type": "code",
   "execution_count": 11,
   "metadata": {},
   "outputs": [
    {
     "name": "stdout",
     "output_type": "stream",
     "text": [
      "type:<class 'numpy.ndarray'>\n",
      "shape: (2, 3), dimension: 2, dtype:int64\n",
      "Array's Data:\n",
      " [[9999    9    9]\n",
      " [   5    6    2]]\n"
     ]
    }
   ],
   "source": [
    "pprint(a)  # b의 변경이 a에도 적용됨"
   ]
  },
  {
   "cell_type": "markdown",
   "metadata": {},
   "source": [
    "### **arr.reshape()**\n",
    "arr의 shape를 변경한다. 실제 데이터를 변경하는 것이 아니고 shape 정보만 수정"
   ]
  },
  {
   "cell_type": "code",
   "execution_count": 12,
   "metadata": {},
   "outputs": [
    {
     "name": "stdout",
     "output_type": "stream",
     "text": [
      "type:<class 'numpy.ndarray'>\n",
      "shape: (2, 3), dimension: 2, dtype:int64\n",
      "Array's Data:\n",
      " [[1 4 6]\n",
      " [1 9 4]]\n"
     ]
    }
   ],
   "source": [
    "a = np.random.randint(1,10, (2,3))\n",
    "pprint(a)"
   ]
  },
  {
   "cell_type": "code",
   "execution_count": 13,
   "metadata": {},
   "outputs": [
    {
     "name": "stdout",
     "output_type": "stream",
     "text": [
      "type:<class 'numpy.ndarray'>\n",
      "shape: (3, 2, 1), dimension: 3, dtype:int64\n",
      "Array's Data:\n",
      " [[[1]\n",
      "  [4]]\n",
      "\n",
      " [[6]\n",
      "  [1]]\n",
      "\n",
      " [[9]\n",
      "  [4]]]\n"
     ]
    }
   ],
   "source": [
    "result = a.reshape((3,2,1))\n",
    "pprint(result)"
   ]
  },
  {
   "cell_type": "markdown",
   "metadata": {},
   "source": [
    "## 11.3 배열 요소 추가 및 삭제\n",
    "resize, append, insert, delete를 통해 배열의 요소를 바꿀 수 있다.  \n",
    "  \n",
    "  ### **resize()**\n",
    "  * np.resize(a, new_shape) / arr.resize(new_shape, refcheck=True)\n",
    "  \n",
    "  reshape는 배열의 요소 수를 변경하지 않지만 resize는 배열의 요소 수를 줄이거나 늘린다."
   ]
  },
  {
   "cell_type": "code",
   "execution_count": 3,
   "metadata": {},
   "outputs": [
    {
     "name": "stdout",
     "output_type": "stream",
     "text": [
      "type:<class 'numpy.ndarray'>\n",
      "shape: (2, 6), dimension: 2, dtype:int64\n",
      "Array's Data:\n",
      " [[2 2 6 9 5 4]\n",
      " [1 2 3 8 9 4]]\n"
     ]
    }
   ],
   "source": [
    "a = np.random.randint(1,10, (2,6))\n",
    "pprint(a)"
   ]
  },
  {
   "cell_type": "code",
   "execution_count": 4,
   "metadata": {},
   "outputs": [
    {
     "name": "stdout",
     "output_type": "stream",
     "text": [
      "type:<class 'numpy.ndarray'>\n",
      "shape: (6, 2), dimension: 2, dtype:int64\n",
      "Array's Data:\n",
      " [[2 2]\n",
      " [6 9]\n",
      " [5 4]\n",
      " [1 2]\n",
      " [3 8]\n",
      " [9 4]]\n"
     ]
    }
   ],
   "source": [
    "# 요소 수 변경 없는 shape 변경\n",
    "a.resize((6,2))\n",
    "pprint(a)"
   ]
  },
  {
   "cell_type": "code",
   "execution_count": 5,
   "metadata": {},
   "outputs": [
    {
     "name": "stdout",
     "output_type": "stream",
     "text": [
      "type:<class 'numpy.ndarray'>\n",
      "shape: (2, 10), dimension: 2, dtype:int64\n",
      "Array's Data:\n",
      " [[2 2 6 9 5 4 1 2 3 8]\n",
      " [9 4 0 0 0 0 0 0 0 0]]\n"
     ]
    }
   ],
   "source": [
    "# 요소 수가 늘어나는 변경\n",
    "a.resize((2,10))\n",
    "pprint(a) # 늘어난 요소는 0으로 채워짐"
   ]
  },
  {
   "cell_type": "code",
   "execution_count": 6,
   "metadata": {},
   "outputs": [
    {
     "name": "stdout",
     "output_type": "stream",
     "text": [
      "type:<class 'numpy.ndarray'>\n",
      "shape: (2, 6), dimension: 2, dtype:int64\n",
      "Array's Data:\n",
      " [[6 8 7 8 7 7]\n",
      " [5 7 2 2 9 9]]\n"
     ]
    }
   ],
   "source": [
    "# 요소 수가 줄어드는 변경\n",
    "a = np.random.randint(1,10, (2,6))\n",
    "pprint(a)"
   ]
  },
  {
   "cell_type": "code",
   "execution_count": 7,
   "metadata": {},
   "outputs": [
    {
     "name": "stdout",
     "output_type": "stream",
     "text": [
      "type:<class 'numpy.ndarray'>\n",
      "shape: (3, 3), dimension: 2, dtype:int64\n",
      "Array's Data:\n",
      " [[6 8 7]\n",
      " [8 7 7]\n",
      " [5 7 2]]\n"
     ]
    }
   ],
   "source": [
    "a.resize((3,3))\n",
    "pprint(a)"
   ]
  },
  {
   "cell_type": "markdown",
   "metadata": {},
   "source": [
    "### **append()**\n",
    "* np.append(arr, values, axis=None)\n",
    "* 배열의 끝에 값을 추가\n",
    "* axis를 통해 추가되는 방향 지정"
   ]
  },
  {
   "cell_type": "code",
   "execution_count": 8,
   "metadata": {},
   "outputs": [
    {
     "name": "stdout",
     "output_type": "stream",
     "text": [
      "type:<class 'numpy.ndarray'>\n",
      "shape: (3, 3), dimension: 2, dtype:int64\n",
      "Array's Data:\n",
      " [[1 2 3]\n",
      " [4 5 6]\n",
      " [7 8 9]]\n",
      "type:<class 'numpy.ndarray'>\n",
      "shape: (3, 3), dimension: 2, dtype:int64\n",
      "Array's Data:\n",
      " [[10 11 12]\n",
      " [13 14 15]\n",
      " [16 17 18]]\n"
     ]
    }
   ],
   "source": [
    "# 데모 배열 생성\n",
    "a = np.arange(1, 10).reshape(3, 3)\n",
    "pprint(a)\n",
    "b = np.arange(10, 19).reshape(3, 3)\n",
    "pprint(b)"
   ]
  },
  {
   "cell_type": "markdown",
   "metadata": {},
   "source": [
    "#### **case 1: axis를 지정하지 않는 경우**\n",
    "axis를 지정하지 않으면 1차원 배열로 변경되어 결합"
   ]
  },
  {
   "cell_type": "code",
   "execution_count": 9,
   "metadata": {},
   "outputs": [
    {
     "name": "stdout",
     "output_type": "stream",
     "text": [
      "type:<class 'numpy.ndarray'>\n",
      "shape: (18,), dimension: 1, dtype:int64\n",
      "Array's Data:\n",
      " [ 1  2  3  4  5  6  7  8  9 10 11 12 13 14 15 16 17 18]\n"
     ]
    }
   ],
   "source": [
    "result = np.append(a,b)\n",
    "pprint(result)"
   ]
  },
  {
   "cell_type": "markdown",
   "metadata": {},
   "source": [
    "#### **case 2: axis=0**\n",
    "* axis=0이면, shape[0]을 제외한 나머지 shape가 같아야한다"
   ]
  },
  {
   "cell_type": "code",
   "execution_count": 11,
   "metadata": {},
   "outputs": [
    {
     "name": "stdout",
     "output_type": "stream",
     "text": [
      "type:<class 'numpy.ndarray'>\n",
      "shape: (6, 3), dimension: 2, dtype:int64\n",
      "Array's Data:\n",
      " [[ 1  2  3]\n",
      " [ 4  5  6]\n",
      " [ 7  8  9]\n",
      " [10 11 12]\n",
      " [13 14 15]\n",
      " [16 17 18]]\n"
     ]
    }
   ],
   "source": [
    "result = np.append(a,b, axis=0)\n",
    "pprint(result)"
   ]
  },
  {
   "cell_type": "markdown",
   "metadata": {},
   "source": [
    "#### **case 3: axis=1**\n",
    "* axis=1이면, shape[1]을 제외한 나머지 shape가 같아야한다"
   ]
  },
  {
   "cell_type": "code",
   "execution_count": 12,
   "metadata": {},
   "outputs": [
    {
     "name": "stdout",
     "output_type": "stream",
     "text": [
      "type:<class 'numpy.ndarray'>\n",
      "shape: (3, 6), dimension: 2, dtype:int64\n",
      "Array's Data:\n",
      " [[ 1  2  3 10 11 12]\n",
      " [ 4  5  6 13 14 15]\n",
      " [ 7  8  9 16 17 18]]\n"
     ]
    }
   ],
   "source": [
    "result = np.append(a,b, axis=1)\n",
    "pprint(result)"
   ]
  },
  {
   "cell_type": "markdown",
   "metadata": {},
   "source": [
    "### **insert()**\n",
    "* np.insert(arr, obj, values, axis=None)\n",
    "* axis 지정하지 않으면 1차원 배열로\n",
    "* 추가할 방향을 axis로 지정"
   ]
  },
  {
   "cell_type": "code",
   "execution_count": 13,
   "metadata": {},
   "outputs": [
    {
     "name": "stdout",
     "output_type": "stream",
     "text": [
      "type:<class 'numpy.ndarray'>\n",
      "shape: (3, 3), dimension: 2, dtype:int64\n",
      "Array's Data:\n",
      " [[1 2 3]\n",
      " [4 5 6]\n",
      " [7 8 9]]\n"
     ]
    }
   ],
   "source": [
    "a = np.arange(1,10).reshape(3,3)\n",
    "pprint(a)"
   ]
  },
  {
   "cell_type": "code",
   "execution_count": 14,
   "metadata": {},
   "outputs": [
    {
     "data": {
      "text/plain": [
       "array([  1, 999,   2,   3,   4,   5,   6,   7,   8,   9])"
      ]
     },
     "execution_count": 14,
     "metadata": {},
     "output_type": "execute_result"
    }
   ],
   "source": [
    "# a 배열을 1차원으로 변환하고 1번 인덱스에 999 추가\n",
    "np.insert(a, 1, 999)"
   ]
  },
  {
   "cell_type": "code",
   "execution_count": 15,
   "metadata": {},
   "outputs": [
    {
     "data": {
      "text/plain": [
       "array([[  1,   2,   3],\n",
       "       [999, 999, 999],\n",
       "       [  4,   5,   6],\n",
       "       [  7,   8,   9]])"
      ]
     },
     "execution_count": 15,
     "metadata": {},
     "output_type": "execute_result"
    }
   ],
   "source": [
    "# axis=0 --> 인덱스가 1인 row에 999 추가\n",
    "np.insert(a,1,999, axis=0)"
   ]
  },
  {
   "cell_type": "code",
   "execution_count": 16,
   "metadata": {},
   "outputs": [
    {
     "data": {
      "text/plain": [
       "array([[  1, 999,   2,   3],\n",
       "       [  4, 999,   5,   6],\n",
       "       [  7, 999,   8,   9]])"
      ]
     },
     "execution_count": 16,
     "metadata": {},
     "output_type": "execute_result"
    }
   ],
   "source": [
    "# axis=1 --> 인덱스가 1인 column에 999 추가\n",
    "np.insert(a,1,999, axis=1)"
   ]
  },
  {
   "cell_type": "markdown",
   "metadata": {},
   "source": [
    "### **delete()**\n",
    "* np.delete(arr, obj, axis=None)\n",
    "* axis지정 안하면 1차원 배열로\n",
    "* 삭제할 방향 axis로 지정\n",
    "* 원본을 변경하지 않으며 새로운 배열을 반환"
   ]
  },
  {
   "cell_type": "code",
   "execution_count": 17,
   "metadata": {},
   "outputs": [
    {
     "name": "stdout",
     "output_type": "stream",
     "text": [
      "type:<class 'numpy.ndarray'>\n",
      "shape: (3, 3), dimension: 2, dtype:int64\n",
      "Array's Data:\n",
      " [[1 2 3]\n",
      " [4 5 6]\n",
      " [7 8 9]]\n"
     ]
    }
   ],
   "source": [
    "a = np.arange(1,10).reshape(3,3)\n",
    "pprint(a)"
   ]
  },
  {
   "cell_type": "code",
   "execution_count": 18,
   "metadata": {},
   "outputs": [
    {
     "data": {
      "text/plain": [
       "array([1, 3, 4, 5, 6, 7, 8, 9])"
      ]
     },
     "execution_count": 18,
     "metadata": {},
     "output_type": "execute_result"
    }
   ],
   "source": [
    "# 1차원으로 변환 후 1번 인덱스 삭제\n",
    "np.delete(a,1)"
   ]
  },
  {
   "cell_type": "code",
   "execution_count": 19,
   "metadata": {},
   "outputs": [
    {
     "data": {
      "text/plain": [
       "array([[1, 2, 3],\n",
       "       [7, 8, 9]])"
      ]
     },
     "execution_count": 19,
     "metadata": {},
     "output_type": "execute_result"
    }
   ],
   "source": [
    "# index 1인 row 삭제\n",
    "np.delete(a,1,axis=0)"
   ]
  },
  {
   "cell_type": "code",
   "execution_count": 20,
   "metadata": {},
   "outputs": [
    {
     "data": {
      "text/plain": [
       "array([[1, 3],\n",
       "       [4, 6],\n",
       "       [7, 9]])"
      ]
     },
     "execution_count": 20,
     "metadata": {},
     "output_type": "execute_result"
    }
   ],
   "source": [
    "# index 1인 column 삭제\n",
    "np.delete(a,1,axis=1)"
   ]
  },
  {
   "cell_type": "markdown",
   "metadata": {},
   "source": [
    "## 11.4 배열 결합\n",
    "### **np.concatenate**\n",
    "* concatenate((a1,a2,...),axis=0)"
   ]
  },
  {
   "cell_type": "code",
   "execution_count": 21,
   "metadata": {},
   "outputs": [
    {
     "name": "stdout",
     "output_type": "stream",
     "text": [
      "type:<class 'numpy.ndarray'>\n",
      "shape: (2, 3), dimension: 2, dtype:int64\n",
      "Array's Data:\n",
      " [[1 2 3]\n",
      " [4 5 6]]\n",
      "type:<class 'numpy.ndarray'>\n",
      "shape: (2, 3), dimension: 2, dtype:int64\n",
      "Array's Data:\n",
      " [[ 7  8  9]\n",
      " [10 11 12]]\n"
     ]
    }
   ],
   "source": [
    "# 데모 배열\n",
    "a = np.arange(1, 7).reshape((2, 3))\n",
    "pprint(a)\n",
    "b = np.arange(7, 13).reshape((2, 3))\n",
    "pprint(b)"
   ]
  },
  {
   "cell_type": "code",
   "execution_count": 22,
   "metadata": {},
   "outputs": [
    {
     "data": {
      "text/plain": [
       "array([[ 1,  2,  3],\n",
       "       [ 4,  5,  6],\n",
       "       [ 7,  8,  9],\n",
       "       [10, 11, 12]])"
      ]
     },
     "execution_count": 22,
     "metadata": {},
     "output_type": "execute_result"
    }
   ],
   "source": [
    "result = np.concatenate((a,b)) # axis default 0\n",
    "result"
   ]
  },
  {
   "cell_type": "code",
   "execution_count": 23,
   "metadata": {},
   "outputs": [
    {
     "data": {
      "text/plain": [
       "array([[ 1,  2,  3,  7,  8,  9],\n",
       "       [ 4,  5,  6, 10, 11, 12]])"
      ]
     },
     "execution_count": 23,
     "metadata": {},
     "output_type": "execute_result"
    }
   ],
   "source": [
    "result = np.concatenate((a,b), axis=1)\n",
    "result"
   ]
  },
  {
   "cell_type": "markdown",
   "metadata": {},
   "source": [
    "### **수직방향 배열 결합: np.vstack**\n",
    "* np.vstack(tup)\n",
    "    * tup = 튜플\n",
    "* 튜플로 설정된 여러 배열을 수직방향으로 연결 (axis=0)\n",
    "* np.concatenate(tup, axis=0)과 동일"
   ]
  },
  {
   "cell_type": "code",
   "execution_count": 24,
   "metadata": {},
   "outputs": [
    {
     "name": "stdout",
     "output_type": "stream",
     "text": [
      "type:<class 'numpy.ndarray'>\n",
      "shape: (2, 3), dimension: 2, dtype:int64\n",
      "Array's Data:\n",
      " [[1 2 3]\n",
      " [4 5 6]]\n",
      "type:<class 'numpy.ndarray'>\n",
      "shape: (2, 3), dimension: 2, dtype:int64\n",
      "Array's Data:\n",
      " [[ 7  8  9]\n",
      " [10 11 12]]\n"
     ]
    }
   ],
   "source": [
    "# 데모 배열\n",
    "a = np.arange(1, 7).reshape((2, 3))\n",
    "pprint(a)\n",
    "b = np.arange(7, 13).reshape((2, 3))\n",
    "pprint(b)"
   ]
  },
  {
   "cell_type": "code",
   "execution_count": 25,
   "metadata": {},
   "outputs": [
    {
     "data": {
      "text/plain": [
       "array([[ 1,  2,  3],\n",
       "       [ 4,  5,  6],\n",
       "       [ 7,  8,  9],\n",
       "       [10, 11, 12]])"
      ]
     },
     "execution_count": 25,
     "metadata": {},
     "output_type": "execute_result"
    }
   ],
   "source": [
    "np.vstack((a,b))"
   ]
  },
  {
   "cell_type": "code",
   "execution_count": 26,
   "metadata": {},
   "outputs": [
    {
     "data": {
      "text/plain": [
       "array([[ 1,  2,  3],\n",
       "       [ 4,  5,  6],\n",
       "       [ 7,  8,  9],\n",
       "       [10, 11, 12],\n",
       "       [ 1,  2,  3],\n",
       "       [ 4,  5,  6],\n",
       "       [ 7,  8,  9],\n",
       "       [10, 11, 12]])"
      ]
     },
     "execution_count": 26,
     "metadata": {},
     "output_type": "execute_result"
    }
   ],
   "source": [
    "np.vstack((a,b,a,b))"
   ]
  },
  {
   "cell_type": "markdown",
   "metadata": {},
   "source": [
    "### **수평방향 배열 결합: np.hstack**\n",
    "* np.hstack(tup)\n",
    "    * tup = 튜플\n",
    "* 튜플로 설정된 여러 배열을 수평방향으로 연결 (axis=1)\n",
    "* np.concatenate(tup, axis=1)과 동일"
   ]
  },
  {
   "cell_type": "code",
   "execution_count": 28,
   "metadata": {},
   "outputs": [
    {
     "data": {
      "text/plain": [
       "array([[ 1,  2,  3,  7,  8,  9],\n",
       "       [ 4,  5,  6, 10, 11, 12]])"
      ]
     },
     "execution_count": 28,
     "metadata": {},
     "output_type": "execute_result"
    }
   ],
   "source": [
    "np.hstack((a,b))"
   ]
  },
  {
   "cell_type": "code",
   "execution_count": 29,
   "metadata": {},
   "outputs": [
    {
     "data": {
      "text/plain": [
       "array([[ 1,  2,  3,  7,  8,  9,  1,  2,  3,  7,  8,  9],\n",
       "       [ 4,  5,  6, 10, 11, 12,  4,  5,  6, 10, 11, 12]])"
      ]
     },
     "execution_count": 29,
     "metadata": {},
     "output_type": "execute_result"
    }
   ],
   "source": [
    "np.hstack((a,b,a,b))"
   ]
  },
  {
   "cell_type": "markdown",
   "metadata": {},
   "source": [
    "## 11.5 배열 분리\n",
    "* np.hsplit(): 지정한 배열을 수평(column) 방향으로 분할\n",
    "* np.vsplit(): 지정한 배열을 수직(row) 방향으로 분할\n",
    "  \n",
    "  **배열 수평 분할**\n",
    "  * np.hsplit(arr, indices_or_sections)\n",
    "  * 배열을 수평방향으로 분할 (column)"
   ]
  },
  {
   "cell_type": "code",
   "execution_count": 30,
   "metadata": {},
   "outputs": [
    {
     "name": "stdout",
     "output_type": "stream",
     "text": [
      "type:<class 'numpy.ndarray'>\n",
      "shape: (4, 6), dimension: 2, dtype:int64\n",
      "Array's Data:\n",
      " [[ 1  2  3  4  5  6]\n",
      " [ 7  8  9 10 11 12]\n",
      " [13 14 15 16 17 18]\n",
      " [19 20 21 22 23 24]]\n"
     ]
    }
   ],
   "source": [
    "a = np.arange(1, 25).reshape((4, 6))\n",
    "pprint(a)"
   ]
  },
  {
   "cell_type": "code",
   "execution_count": 31,
   "metadata": {},
   "outputs": [
    {
     "data": {
      "text/plain": [
       "[array([[ 1,  2,  3],\n",
       "        [ 7,  8,  9],\n",
       "        [13, 14, 15],\n",
       "        [19, 20, 21]]), array([[ 4,  5,  6],\n",
       "        [10, 11, 12],\n",
       "        [16, 17, 18],\n",
       "        [22, 23, 24]])]"
      ]
     },
     "execution_count": 31,
     "metadata": {},
     "output_type": "execute_result"
    }
   ],
   "source": [
    "result = np.hsplit(a, 2)\n",
    "result"
   ]
  },
  {
   "cell_type": "markdown",
   "metadata": {},
   "source": [
    "![hsplit](https://taewanmerepo.github.io/2018/01/numpy/sp01.png)"
   ]
  },
  {
   "cell_type": "code",
   "execution_count": 32,
   "metadata": {},
   "outputs": [
    {
     "data": {
      "text/plain": [
       "[array([[ 1,  2],\n",
       "        [ 7,  8],\n",
       "        [13, 14],\n",
       "        [19, 20]]), array([[ 3,  4],\n",
       "        [ 9, 10],\n",
       "        [15, 16],\n",
       "        [21, 22]]), array([[ 5,  6],\n",
       "        [11, 12],\n",
       "        [17, 18],\n",
       "        [23, 24]])]"
      ]
     },
     "execution_count": 32,
     "metadata": {},
     "output_type": "execute_result"
    }
   ],
   "source": [
    "result = np.hsplit(a,3) # 세 그룹으로 분할\n",
    "result"
   ]
  },
  {
   "cell_type": "code",
   "execution_count": 34,
   "metadata": {},
   "outputs": [
    {
     "data": {
      "text/plain": [
       "[array([[ 1],\n",
       "        [ 7],\n",
       "        [13],\n",
       "        [19]]), array([[ 2,  3],\n",
       "        [ 8,  9],\n",
       "        [14, 15],\n",
       "        [20, 21]]), array([[ 4,  5],\n",
       "        [10, 11],\n",
       "        [16, 17],\n",
       "        [22, 23]]), array([[ 6],\n",
       "        [12],\n",
       "        [18],\n",
       "        [24]])]"
      ]
     },
     "execution_count": 34,
     "metadata": {},
     "output_type": "execute_result"
    }
   ],
   "source": [
    "result = np.hsplit(a, [1,3,5]) # 여러 구간으로 분할\n",
    "result # 1 다음 구분, 3다음 구분, 5다음 구분"
   ]
  },
  {
   "cell_type": "markdown",
   "metadata": {},
   "source": [
    "![0](https://taewanmerepo.github.io/2018/01/numpy/sp03.png)"
   ]
  },
  {
   "cell_type": "markdown",
   "metadata": {},
   "source": [
    "**배열 수직 분할**  \n",
    "* np.vsplit(arr, indices_or_sections)\n",
    "* 배열을 수직방향으로 분할 (row)"
   ]
  },
  {
   "cell_type": "code",
   "execution_count": 35,
   "metadata": {},
   "outputs": [
    {
     "name": "stdout",
     "output_type": "stream",
     "text": [
      "type:<class 'numpy.ndarray'>\n",
      "shape: (4, 6), dimension: 2, dtype:int64\n",
      "Array's Data:\n",
      " [[ 1  2  3  4  5  6]\n",
      " [ 7  8  9 10 11 12]\n",
      " [13 14 15 16 17 18]\n",
      " [19 20 21 22 23 24]]\n"
     ]
    }
   ],
   "source": [
    "# 분할 대상 배열 생성\n",
    "a = np.arange(1, 25).reshape((4, 6))\n",
    "pprint(a)"
   ]
  },
  {
   "cell_type": "code",
   "execution_count": 41,
   "metadata": {},
   "outputs": [
    {
     "data": {
      "text/plain": [
       "[array([[ 1,  2,  3,  4,  5,  6],\n",
       "        [ 7,  8,  9, 10, 11, 12]]), array([[13, 14, 15, 16, 17, 18],\n",
       "        [19, 20, 21, 22, 23, 24]])]"
      ]
     },
     "execution_count": 41,
     "metadata": {},
     "output_type": "execute_result"
    }
   ],
   "source": [
    "result = np.vsplit(a,2) # 2개 그룹으로 분할\n",
    "result"
   ]
  },
  {
   "cell_type": "markdown",
   "metadata": {},
   "source": [
    "![11](https://taewanmerepo.github.io/2018/01/numpy/sp04.png)"
   ]
  },
  {
   "cell_type": "code",
   "execution_count": 42,
   "metadata": {},
   "outputs": [
    {
     "data": {
      "text/plain": [
       "[array([[1, 2, 3, 4, 5, 6]]),\n",
       " array([[ 7,  8,  9, 10, 11, 12]]),\n",
       " array([[13, 14, 15, 16, 17, 18]]),\n",
       " array([[19, 20, 21, 22, 23, 24]])]"
      ]
     },
     "execution_count": 42,
     "metadata": {},
     "output_type": "execute_result"
    }
   ],
   "source": [
    "result = np.vsplit(a,4) # 4개 그룹으로 분할\n",
    "result"
   ]
  },
  {
   "cell_type": "code",
   "execution_count": 44,
   "metadata": {},
   "outputs": [
    {
     "data": {
      "text/plain": [
       "[array([[1, 2, 3, 4, 5, 6]]), array([[ 7,  8,  9, 10, 11, 12],\n",
       "        [13, 14, 15, 16, 17, 18]]), array([[19, 20, 21, 22, 23, 24]])]"
      ]
     },
     "execution_count": 44,
     "metadata": {},
     "output_type": "execute_result"
    }
   ],
   "source": [
    "result = np.vsplit(a, [1,3]) # 여려 구간으로 분할\n",
    "result # 1다음 분할, 3다음 분할 / 1, 2-3, 4 로 분할"
   ]
  },
  {
   "cell_type": "markdown",
   "metadata": {},
   "source": [
    "![111](https://taewanmerepo.github.io/2018/01/numpy/sp06.png)"
   ]
  },
  {
   "cell_type": "code",
   "execution_count": null,
   "metadata": {},
   "outputs": [],
   "source": []
  }
 ],
 "metadata": {
  "kernelspec": {
   "display_name": "TensorFlow",
   "language": "python",
   "name": "tensorflow"
  },
  "language_info": {
   "codemirror_mode": {
    "name": "ipython",
    "version": 3
   },
   "file_extension": ".py",
   "mimetype": "text/x-python",
   "name": "python",
   "nbconvert_exporter": "python",
   "pygments_lexer": "ipython3",
   "version": "3.6.8"
  }
 },
 "nbformat": 4,
 "nbformat_minor": 2
}
